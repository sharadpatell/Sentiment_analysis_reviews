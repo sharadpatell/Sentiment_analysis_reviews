{
 "cells": [
  {
   "cell_type": "code",
   "execution_count": 1,
   "id": "d4efe16a",
   "metadata": {
    "_cell_guid": "b1076dfc-b9ad-4769-8c92-a6c4dae69d19",
    "_uuid": "8f2839f25d086af736a60e9eeb907d3b93b6e0e5",
    "execution": {
     "iopub.execute_input": "2024-04-27T12:11:10.537067Z",
     "iopub.status.busy": "2024-04-27T12:11:10.536599Z",
     "iopub.status.idle": "2024-04-27T12:11:11.321798Z",
     "shell.execute_reply": "2024-04-27T12:11:11.320609Z"
    },
    "papermill": {
     "duration": 0.797696,
     "end_time": "2024-04-27T12:11:11.324922",
     "exception": false,
     "start_time": "2024-04-27T12:11:10.527226",
     "status": "completed"
    },
    "tags": []
   },
   "outputs": [
    {
     "name": "stdout",
     "output_type": "stream",
     "text": [
      "/kaggle/input/amazon-music-reviews/Musical_Instruments_5.json\n",
      "/kaggle/input/amazon-music-reviews/Musical_instruments_reviews.csv\n"
     ]
    }
   ],
   "source": [
    "# This Python 3 environment comes with many helpful analytics libraries installed\n",
    "# It is defined by the kaggle/python Docker image: https://github.com/kaggle/docker-python\n",
    "# For example, here's several helpful packages to load\n",
    "\n",
    "import numpy as np # linear algebra\n",
    "import pandas as pd # data processing, CSV file I/O (e.g. pd.read_csv)\n",
    "\n",
    "# Input data files are available in the read-only \"../input/\" directory\n",
    "# For example, running this (by clicking run or pressing Shift+Enter) will list all files under the input directory\n",
    "\n",
    "import os\n",
    "for dirname, _, filenames in os.walk('/kaggle/input'):\n",
    "    for filename in filenames:\n",
    "        print(os.path.join(dirname, filename))\n",
    "\n",
    "# You can write up to 20GB to the current directory (/kaggle/working/) that gets preserved as output when you create a version using \"Save & Run All\" \n",
    "# You can also write temporary files to /kaggle/temp/, but they won't be saved outside of the current session"
   ]
  },
  {
   "cell_type": "code",
   "execution_count": 2,
   "id": "bded63f1",
   "metadata": {
    "execution": {
     "iopub.execute_input": "2024-04-27T12:11:11.342927Z",
     "iopub.status.busy": "2024-04-27T12:11:11.342423Z",
     "iopub.status.idle": "2024-04-27T12:11:11.347510Z",
     "shell.execute_reply": "2024-04-27T12:11:11.346354Z"
    },
    "papermill": {
     "duration": 0.016349,
     "end_time": "2024-04-27T12:11:11.349731",
     "exception": false,
     "start_time": "2024-04-27T12:11:11.333382",
     "status": "completed"
    },
    "tags": []
   },
   "outputs": [],
   "source": [
    "import warnings\n",
    "\n",
    "# Ignore all warnings\n",
    "warnings.filterwarnings(\"ignore\")\n"
   ]
  },
  {
   "cell_type": "code",
   "execution_count": 3,
   "id": "72cfebd3",
   "metadata": {
    "execution": {
     "iopub.execute_input": "2024-04-27T12:11:11.366049Z",
     "iopub.status.busy": "2024-04-27T12:11:11.365655Z",
     "iopub.status.idle": "2024-04-27T12:11:11.575718Z",
     "shell.execute_reply": "2024-04-27T12:11:11.574642Z"
    },
    "papermill": {
     "duration": 0.220972,
     "end_time": "2024-04-27T12:11:11.578206",
     "exception": false,
     "start_time": "2024-04-27T12:11:11.357234",
     "status": "completed"
    },
    "tags": []
   },
   "outputs": [
    {
     "data": {
      "text/html": [
       "<div>\n",
       "<style scoped>\n",
       "    .dataframe tbody tr th:only-of-type {\n",
       "        vertical-align: middle;\n",
       "    }\n",
       "\n",
       "    .dataframe tbody tr th {\n",
       "        vertical-align: top;\n",
       "    }\n",
       "\n",
       "    .dataframe thead th {\n",
       "        text-align: right;\n",
       "    }\n",
       "</style>\n",
       "<table border=\"1\" class=\"dataframe\">\n",
       "  <thead>\n",
       "    <tr style=\"text-align: right;\">\n",
       "      <th></th>\n",
       "      <th>reviewerID</th>\n",
       "      <th>asin</th>\n",
       "      <th>reviewerName</th>\n",
       "      <th>helpful</th>\n",
       "      <th>reviewText</th>\n",
       "      <th>overall</th>\n",
       "      <th>summary</th>\n",
       "      <th>unixReviewTime</th>\n",
       "      <th>reviewTime</th>\n",
       "    </tr>\n",
       "  </thead>\n",
       "  <tbody>\n",
       "    <tr>\n",
       "      <th>0</th>\n",
       "      <td>A2IBPI20UZIR0U</td>\n",
       "      <td>1384719342</td>\n",
       "      <td>cassandra tu \"Yeah, well, that's just like, u...</td>\n",
       "      <td>[0, 0]</td>\n",
       "      <td>Not much to write about here, but it does exac...</td>\n",
       "      <td>5.0</td>\n",
       "      <td>good</td>\n",
       "      <td>1393545600</td>\n",
       "      <td>02 28, 2014</td>\n",
       "    </tr>\n",
       "    <tr>\n",
       "      <th>1</th>\n",
       "      <td>A14VAT5EAX3D9S</td>\n",
       "      <td>1384719342</td>\n",
       "      <td>Jake</td>\n",
       "      <td>[13, 14]</td>\n",
       "      <td>The product does exactly as it should and is q...</td>\n",
       "      <td>5.0</td>\n",
       "      <td>Jake</td>\n",
       "      <td>1363392000</td>\n",
       "      <td>03 16, 2013</td>\n",
       "    </tr>\n",
       "    <tr>\n",
       "      <th>2</th>\n",
       "      <td>A195EZSQDW3E21</td>\n",
       "      <td>1384719342</td>\n",
       "      <td>Rick Bennette \"Rick Bennette\"</td>\n",
       "      <td>[1, 1]</td>\n",
       "      <td>The primary job of this device is to block the...</td>\n",
       "      <td>5.0</td>\n",
       "      <td>It Does The Job Well</td>\n",
       "      <td>1377648000</td>\n",
       "      <td>08 28, 2013</td>\n",
       "    </tr>\n",
       "    <tr>\n",
       "      <th>3</th>\n",
       "      <td>A2C00NNG1ZQQG2</td>\n",
       "      <td>1384719342</td>\n",
       "      <td>RustyBill \"Sunday Rocker\"</td>\n",
       "      <td>[0, 0]</td>\n",
       "      <td>Nice windscreen protects my MXL mic and preven...</td>\n",
       "      <td>5.0</td>\n",
       "      <td>GOOD WINDSCREEN FOR THE MONEY</td>\n",
       "      <td>1392336000</td>\n",
       "      <td>02 14, 2014</td>\n",
       "    </tr>\n",
       "    <tr>\n",
       "      <th>4</th>\n",
       "      <td>A94QU4C90B1AX</td>\n",
       "      <td>1384719342</td>\n",
       "      <td>SEAN MASLANKA</td>\n",
       "      <td>[0, 0]</td>\n",
       "      <td>This pop filter is great. It looks and perform...</td>\n",
       "      <td>5.0</td>\n",
       "      <td>No more pops when I record my vocals.</td>\n",
       "      <td>1392940800</td>\n",
       "      <td>02 21, 2014</td>\n",
       "    </tr>\n",
       "  </tbody>\n",
       "</table>\n",
       "</div>"
      ],
      "text/plain": [
       "       reviewerID        asin  \\\n",
       "0  A2IBPI20UZIR0U  1384719342   \n",
       "1  A14VAT5EAX3D9S  1384719342   \n",
       "2  A195EZSQDW3E21  1384719342   \n",
       "3  A2C00NNG1ZQQG2  1384719342   \n",
       "4   A94QU4C90B1AX  1384719342   \n",
       "\n",
       "                                       reviewerName   helpful  \\\n",
       "0  cassandra tu \"Yeah, well, that's just like, u...    [0, 0]   \n",
       "1                                              Jake  [13, 14]   \n",
       "2                     Rick Bennette \"Rick Bennette\"    [1, 1]   \n",
       "3                         RustyBill \"Sunday Rocker\"    [0, 0]   \n",
       "4                                     SEAN MASLANKA    [0, 0]   \n",
       "\n",
       "                                          reviewText  overall  \\\n",
       "0  Not much to write about here, but it does exac...      5.0   \n",
       "1  The product does exactly as it should and is q...      5.0   \n",
       "2  The primary job of this device is to block the...      5.0   \n",
       "3  Nice windscreen protects my MXL mic and preven...      5.0   \n",
       "4  This pop filter is great. It looks and perform...      5.0   \n",
       "\n",
       "                                 summary  unixReviewTime   reviewTime  \n",
       "0                                   good      1393545600  02 28, 2014  \n",
       "1                                   Jake      1363392000  03 16, 2013  \n",
       "2                   It Does The Job Well      1377648000  08 28, 2013  \n",
       "3          GOOD WINDSCREEN FOR THE MONEY      1392336000  02 14, 2014  \n",
       "4  No more pops when I record my vocals.      1392940800  02 21, 2014  "
      ]
     },
     "execution_count": 3,
     "metadata": {},
     "output_type": "execute_result"
    }
   ],
   "source": [
    "data = pd.read_csv('/kaggle/input/amazon-music-reviews/Musical_instruments_reviews.csv')\n",
    "data.head()"
   ]
  },
  {
   "cell_type": "code",
   "execution_count": 4,
   "id": "29d16df5",
   "metadata": {
    "execution": {
     "iopub.execute_input": "2024-04-27T12:11:11.595575Z",
     "iopub.status.busy": "2024-04-27T12:11:11.595208Z",
     "iopub.status.idle": "2024-04-27T12:11:11.601729Z",
     "shell.execute_reply": "2024-04-27T12:11:11.600681Z"
    },
    "papermill": {
     "duration": 0.017822,
     "end_time": "2024-04-27T12:11:11.603870",
     "exception": false,
     "start_time": "2024-04-27T12:11:11.586048",
     "status": "completed"
    },
    "tags": []
   },
   "outputs": [
    {
     "data": {
      "text/plain": [
       "(10261, 9)"
      ]
     },
     "execution_count": 4,
     "metadata": {},
     "output_type": "execute_result"
    }
   ],
   "source": [
    "data.shape"
   ]
  },
  {
   "cell_type": "code",
   "execution_count": 5,
   "id": "4d1f4ac6",
   "metadata": {
    "execution": {
     "iopub.execute_input": "2024-04-27T12:11:11.620958Z",
     "iopub.status.busy": "2024-04-27T12:11:11.620299Z",
     "iopub.status.idle": "2024-04-27T12:11:11.635167Z",
     "shell.execute_reply": "2024-04-27T12:11:11.634178Z"
    },
    "papermill": {
     "duration": 0.025926,
     "end_time": "2024-04-27T12:11:11.637509",
     "exception": false,
     "start_time": "2024-04-27T12:11:11.611583",
     "status": "completed"
    },
    "tags": []
   },
   "outputs": [
    {
     "data": {
      "text/plain": [
       "reviewerID         0\n",
       "asin               0\n",
       "reviewerName      27\n",
       "helpful            0\n",
       "reviewText         7\n",
       "overall            0\n",
       "summary            0\n",
       "unixReviewTime     0\n",
       "reviewTime         0\n",
       "dtype: int64"
      ]
     },
     "execution_count": 5,
     "metadata": {},
     "output_type": "execute_result"
    }
   ],
   "source": [
    "data.isnull().sum()"
   ]
  },
  {
   "cell_type": "code",
   "execution_count": 6,
   "id": "78b7e1eb",
   "metadata": {
    "execution": {
     "iopub.execute_input": "2024-04-27T12:11:11.655331Z",
     "iopub.status.busy": "2024-04-27T12:11:11.654868Z",
     "iopub.status.idle": "2024-04-27T12:11:11.662416Z",
     "shell.execute_reply": "2024-04-27T12:11:11.661322Z"
    },
    "papermill": {
     "duration": 0.019153,
     "end_time": "2024-04-27T12:11:11.664523",
     "exception": false,
     "start_time": "2024-04-27T12:11:11.645370",
     "status": "completed"
    },
    "tags": []
   },
   "outputs": [],
   "source": [
    "# null_reviewText = data[data['reviewText'].isnull()]\n",
    "# print(\"Rows with null values in 'reviewText':\")\n",
    "# print(null_reviewText[['summary', 'reviewText']])\n",
    "\n",
    "# # Fill null values in 'reviewText' with corresponding values from 'summary'\n",
    "# data['reviewText'].fillna(data['summary'], inplace=True)\n",
    "\n",
    "# # Check if all null values in 'reviewText' have been imputed\n",
    "# if data['reviewText'].isnull().sum() == 0:\n",
    "#     print(\"\\nAll null values in 'reviewText' have been imputed.\")\n",
    "# else:\n",
    "#     print(\"\\nSome null values in 'reviewText' could not be imputed.\")\n",
    "\n",
    "\n",
    "\n",
    "data.reviewText.fillna('', inplace = True)"
   ]
  },
  {
   "cell_type": "code",
   "execution_count": 7,
   "id": "0b3dad7a",
   "metadata": {
    "execution": {
     "iopub.execute_input": "2024-04-27T12:11:11.683427Z",
     "iopub.status.busy": "2024-04-27T12:11:11.682654Z",
     "iopub.status.idle": "2024-04-27T12:11:11.695709Z",
     "shell.execute_reply": "2024-04-27T12:11:11.694608Z"
    },
    "papermill": {
     "duration": 0.024672,
     "end_time": "2024-04-27T12:11:11.698107",
     "exception": false,
     "start_time": "2024-04-27T12:11:11.673435",
     "status": "completed"
    },
    "tags": []
   },
   "outputs": [
    {
     "data": {
      "text/plain": [
       "reviewerID         0\n",
       "asin               0\n",
       "reviewerName      27\n",
       "helpful            0\n",
       "reviewText         0\n",
       "overall            0\n",
       "summary            0\n",
       "unixReviewTime     0\n",
       "reviewTime         0\n",
       "dtype: int64"
      ]
     },
     "execution_count": 7,
     "metadata": {},
     "output_type": "execute_result"
    }
   ],
   "source": [
    "data.isnull().sum()"
   ]
  },
  {
   "cell_type": "code",
   "execution_count": 8,
   "id": "f68060d1",
   "metadata": {
    "execution": {
     "iopub.execute_input": "2024-04-27T12:11:11.715943Z",
     "iopub.status.busy": "2024-04-27T12:11:11.715258Z",
     "iopub.status.idle": "2024-04-27T12:11:11.722200Z",
     "shell.execute_reply": "2024-04-27T12:11:11.721025Z"
    },
    "papermill": {
     "duration": 0.018073,
     "end_time": "2024-04-27T12:11:11.724209",
     "exception": false,
     "start_time": "2024-04-27T12:11:11.706136",
     "status": "completed"
    },
    "tags": []
   },
   "outputs": [
    {
     "data": {
      "text/plain": [
       "Index(['reviewerID', 'asin', 'reviewerName', 'helpful', 'reviewText',\n",
       "       'overall', 'summary', 'unixReviewTime', 'reviewTime'],\n",
       "      dtype='object')"
      ]
     },
     "execution_count": 8,
     "metadata": {},
     "output_type": "execute_result"
    }
   ],
   "source": [
    "data.columns"
   ]
  },
  {
   "cell_type": "markdown",
   "id": "eeed23a8",
   "metadata": {
    "papermill": {
     "duration": 0.007765,
     "end_time": "2024-04-27T12:11:11.739895",
     "exception": false,
     "start_time": "2024-04-27T12:11:11.732130",
     "status": "completed"
    },
    "tags": []
   },
   "source": [
    "as we are making the sentiment analysis model so we drop the irrevelant columns"
   ]
  },
  {
   "cell_type": "code",
   "execution_count": 9,
   "id": "515fba79",
   "metadata": {
    "execution": {
     "iopub.execute_input": "2024-04-27T12:11:11.757558Z",
     "iopub.status.busy": "2024-04-27T12:11:11.757178Z",
     "iopub.status.idle": "2024-04-27T12:11:11.769069Z",
     "shell.execute_reply": "2024-04-27T12:11:11.767955Z"
    },
    "papermill": {
     "duration": 0.023378,
     "end_time": "2024-04-27T12:11:11.771313",
     "exception": false,
     "start_time": "2024-04-27T12:11:11.747935",
     "status": "completed"
    },
    "tags": []
   },
   "outputs": [],
   "source": [
    "drop_col = ['reviewerID', 'asin', 'reviewerName', 'helpful', 'unixReviewTime', 'reviewTime']\n",
    "data.drop(columns = drop_col, inplace = True)"
   ]
  },
  {
   "cell_type": "code",
   "execution_count": 10,
   "id": "d41f0c00",
   "metadata": {
    "execution": {
     "iopub.execute_input": "2024-04-27T12:11:11.789840Z",
     "iopub.status.busy": "2024-04-27T12:11:11.789065Z",
     "iopub.status.idle": "2024-04-27T12:11:11.799841Z",
     "shell.execute_reply": "2024-04-27T12:11:11.798994Z"
    },
    "papermill": {
     "duration": 0.022696,
     "end_time": "2024-04-27T12:11:11.802360",
     "exception": false,
     "start_time": "2024-04-27T12:11:11.779664",
     "status": "completed"
    },
    "tags": []
   },
   "outputs": [
    {
     "data": {
      "text/html": [
       "<div>\n",
       "<style scoped>\n",
       "    .dataframe tbody tr th:only-of-type {\n",
       "        vertical-align: middle;\n",
       "    }\n",
       "\n",
       "    .dataframe tbody tr th {\n",
       "        vertical-align: top;\n",
       "    }\n",
       "\n",
       "    .dataframe thead th {\n",
       "        text-align: right;\n",
       "    }\n",
       "</style>\n",
       "<table border=\"1\" class=\"dataframe\">\n",
       "  <thead>\n",
       "    <tr style=\"text-align: right;\">\n",
       "      <th></th>\n",
       "      <th>reviewText</th>\n",
       "      <th>overall</th>\n",
       "      <th>summary</th>\n",
       "    </tr>\n",
       "  </thead>\n",
       "  <tbody>\n",
       "    <tr>\n",
       "      <th>0</th>\n",
       "      <td>Not much to write about here, but it does exac...</td>\n",
       "      <td>5.0</td>\n",
       "      <td>good</td>\n",
       "    </tr>\n",
       "    <tr>\n",
       "      <th>1</th>\n",
       "      <td>The product does exactly as it should and is q...</td>\n",
       "      <td>5.0</td>\n",
       "      <td>Jake</td>\n",
       "    </tr>\n",
       "    <tr>\n",
       "      <th>2</th>\n",
       "      <td>The primary job of this device is to block the...</td>\n",
       "      <td>5.0</td>\n",
       "      <td>It Does The Job Well</td>\n",
       "    </tr>\n",
       "    <tr>\n",
       "      <th>3</th>\n",
       "      <td>Nice windscreen protects my MXL mic and preven...</td>\n",
       "      <td>5.0</td>\n",
       "      <td>GOOD WINDSCREEN FOR THE MONEY</td>\n",
       "    </tr>\n",
       "    <tr>\n",
       "      <th>4</th>\n",
       "      <td>This pop filter is great. It looks and perform...</td>\n",
       "      <td>5.0</td>\n",
       "      <td>No more pops when I record my vocals.</td>\n",
       "    </tr>\n",
       "  </tbody>\n",
       "</table>\n",
       "</div>"
      ],
      "text/plain": [
       "                                          reviewText  overall  \\\n",
       "0  Not much to write about here, but it does exac...      5.0   \n",
       "1  The product does exactly as it should and is q...      5.0   \n",
       "2  The primary job of this device is to block the...      5.0   \n",
       "3  Nice windscreen protects my MXL mic and preven...      5.0   \n",
       "4  This pop filter is great. It looks and perform...      5.0   \n",
       "\n",
       "                                 summary  \n",
       "0                                   good  \n",
       "1                                   Jake  \n",
       "2                   It Does The Job Well  \n",
       "3          GOOD WINDSCREEN FOR THE MONEY  \n",
       "4  No more pops when I record my vocals.  "
      ]
     },
     "execution_count": 10,
     "metadata": {},
     "output_type": "execute_result"
    }
   ],
   "source": [
    "data.head()"
   ]
  },
  {
   "cell_type": "code",
   "execution_count": 11,
   "id": "e97f71c0",
   "metadata": {
    "execution": {
     "iopub.execute_input": "2024-04-27T12:11:11.821000Z",
     "iopub.status.busy": "2024-04-27T12:11:11.820022Z",
     "iopub.status.idle": "2024-04-27T12:11:11.847096Z",
     "shell.execute_reply": "2024-04-27T12:11:11.846140Z"
    },
    "papermill": {
     "duration": 0.038878,
     "end_time": "2024-04-27T12:11:11.849485",
     "exception": false,
     "start_time": "2024-04-27T12:11:11.810607",
     "status": "completed"
    },
    "tags": []
   },
   "outputs": [],
   "source": [
    "data['review'] = data['reviewText'] + ' ' + data['summary']\n",
    "data.drop(columns = ['reviewText', 'summary'], inplace = True)"
   ]
  },
  {
   "cell_type": "code",
   "execution_count": 12,
   "id": "7756dcd0",
   "metadata": {
    "execution": {
     "iopub.execute_input": "2024-04-27T12:11:11.867421Z",
     "iopub.status.busy": "2024-04-27T12:11:11.867068Z",
     "iopub.status.idle": "2024-04-27T12:11:11.877965Z",
     "shell.execute_reply": "2024-04-27T12:11:11.876821Z"
    },
    "papermill": {
     "duration": 0.022502,
     "end_time": "2024-04-27T12:11:11.880201",
     "exception": false,
     "start_time": "2024-04-27T12:11:11.857699",
     "status": "completed"
    },
    "tags": []
   },
   "outputs": [
    {
     "data": {
      "text/html": [
       "<div>\n",
       "<style scoped>\n",
       "    .dataframe tbody tr th:only-of-type {\n",
       "        vertical-align: middle;\n",
       "    }\n",
       "\n",
       "    .dataframe tbody tr th {\n",
       "        vertical-align: top;\n",
       "    }\n",
       "\n",
       "    .dataframe thead th {\n",
       "        text-align: right;\n",
       "    }\n",
       "</style>\n",
       "<table border=\"1\" class=\"dataframe\">\n",
       "  <thead>\n",
       "    <tr style=\"text-align: right;\">\n",
       "      <th></th>\n",
       "      <th>overall</th>\n",
       "      <th>review</th>\n",
       "    </tr>\n",
       "  </thead>\n",
       "  <tbody>\n",
       "    <tr>\n",
       "      <th>0</th>\n",
       "      <td>5.0</td>\n",
       "      <td>Not much to write about here, but it does exac...</td>\n",
       "    </tr>\n",
       "    <tr>\n",
       "      <th>1</th>\n",
       "      <td>5.0</td>\n",
       "      <td>The product does exactly as it should and is q...</td>\n",
       "    </tr>\n",
       "    <tr>\n",
       "      <th>2</th>\n",
       "      <td>5.0</td>\n",
       "      <td>The primary job of this device is to block the...</td>\n",
       "    </tr>\n",
       "    <tr>\n",
       "      <th>3</th>\n",
       "      <td>5.0</td>\n",
       "      <td>Nice windscreen protects my MXL mic and preven...</td>\n",
       "    </tr>\n",
       "    <tr>\n",
       "      <th>4</th>\n",
       "      <td>5.0</td>\n",
       "      <td>This pop filter is great. It looks and perform...</td>\n",
       "    </tr>\n",
       "  </tbody>\n",
       "</table>\n",
       "</div>"
      ],
      "text/plain": [
       "   overall                                             review\n",
       "0      5.0  Not much to write about here, but it does exac...\n",
       "1      5.0  The product does exactly as it should and is q...\n",
       "2      5.0  The primary job of this device is to block the...\n",
       "3      5.0  Nice windscreen protects my MXL mic and preven...\n",
       "4      5.0  This pop filter is great. It looks and perform..."
      ]
     },
     "execution_count": 12,
     "metadata": {},
     "output_type": "execute_result"
    }
   ],
   "source": [
    "data.head()"
   ]
  },
  {
   "cell_type": "code",
   "execution_count": 13,
   "id": "aed81244",
   "metadata": {
    "execution": {
     "iopub.execute_input": "2024-04-27T12:11:11.899738Z",
     "iopub.status.busy": "2024-04-27T12:11:11.898780Z",
     "iopub.status.idle": "2024-04-27T12:11:11.908066Z",
     "shell.execute_reply": "2024-04-27T12:11:11.906877Z"
    },
    "papermill": {
     "duration": 0.021354,
     "end_time": "2024-04-27T12:11:11.910289",
     "exception": false,
     "start_time": "2024-04-27T12:11:11.888935",
     "status": "completed"
    },
    "tags": []
   },
   "outputs": [],
   "source": [
    "# Define thresholds for positive, negative, and neutral ratings\n",
    "positive_threshold = 3.5\n",
    "negative_threshold = 2.5\n",
    "#positive = 1\n",
    "#negative = -1\n",
    "#neutral = 0\n",
    "\n",
    "# Split the \"overall\" column into positive, negative, and neutral categories\n",
    "data['sentiment'] = data['overall'].apply(lambda rating: '1' if rating > positive_threshold else '-1' if rating < negative_threshold else '0')"
   ]
  },
  {
   "cell_type": "code",
   "execution_count": 14,
   "id": "52e35988",
   "metadata": {
    "execution": {
     "iopub.execute_input": "2024-04-27T12:11:11.928932Z",
     "iopub.status.busy": "2024-04-27T12:11:11.928533Z",
     "iopub.status.idle": "2024-04-27T12:11:11.941174Z",
     "shell.execute_reply": "2024-04-27T12:11:11.939993Z"
    },
    "papermill": {
     "duration": 0.024936,
     "end_time": "2024-04-27T12:11:11.943640",
     "exception": false,
     "start_time": "2024-04-27T12:11:11.918704",
     "status": "completed"
    },
    "tags": []
   },
   "outputs": [
    {
     "data": {
      "text/plain": [
       "sentiment\n",
       "1     9022\n",
       "0      772\n",
       "-1     467\n",
       "Name: count, dtype: int64"
      ]
     },
     "execution_count": 14,
     "metadata": {},
     "output_type": "execute_result"
    }
   ],
   "source": [
    "data['sentiment'].value_counts()"
   ]
  },
  {
   "cell_type": "code",
   "execution_count": 15,
   "id": "d2df7d43",
   "metadata": {
    "execution": {
     "iopub.execute_input": "2024-04-27T12:11:11.962597Z",
     "iopub.status.busy": "2024-04-27T12:11:11.962213Z",
     "iopub.status.idle": "2024-04-27T12:11:11.968797Z",
     "shell.execute_reply": "2024-04-27T12:11:11.967737Z"
    },
    "papermill": {
     "duration": 0.019045,
     "end_time": "2024-04-27T12:11:11.971291",
     "exception": false,
     "start_time": "2024-04-27T12:11:11.952246",
     "status": "completed"
    },
    "tags": []
   },
   "outputs": [],
   "source": [
    "data.drop('overall', axis=1, inplace=True)"
   ]
  },
  {
   "cell_type": "code",
   "execution_count": 16,
   "id": "f6ee0122",
   "metadata": {
    "execution": {
     "iopub.execute_input": "2024-04-27T12:11:11.990957Z",
     "iopub.status.busy": "2024-04-27T12:11:11.989826Z",
     "iopub.status.idle": "2024-04-27T12:11:11.999897Z",
     "shell.execute_reply": "2024-04-27T12:11:11.998754Z"
    },
    "papermill": {
     "duration": 0.022059,
     "end_time": "2024-04-27T12:11:12.002174",
     "exception": false,
     "start_time": "2024-04-27T12:11:11.980115",
     "status": "completed"
    },
    "tags": []
   },
   "outputs": [
    {
     "data": {
      "text/html": [
       "<div>\n",
       "<style scoped>\n",
       "    .dataframe tbody tr th:only-of-type {\n",
       "        vertical-align: middle;\n",
       "    }\n",
       "\n",
       "    .dataframe tbody tr th {\n",
       "        vertical-align: top;\n",
       "    }\n",
       "\n",
       "    .dataframe thead th {\n",
       "        text-align: right;\n",
       "    }\n",
       "</style>\n",
       "<table border=\"1\" class=\"dataframe\">\n",
       "  <thead>\n",
       "    <tr style=\"text-align: right;\">\n",
       "      <th></th>\n",
       "      <th>review</th>\n",
       "      <th>sentiment</th>\n",
       "    </tr>\n",
       "  </thead>\n",
       "  <tbody>\n",
       "    <tr>\n",
       "      <th>0</th>\n",
       "      <td>Not much to write about here, but it does exac...</td>\n",
       "      <td>1</td>\n",
       "    </tr>\n",
       "    <tr>\n",
       "      <th>1</th>\n",
       "      <td>The product does exactly as it should and is q...</td>\n",
       "      <td>1</td>\n",
       "    </tr>\n",
       "    <tr>\n",
       "      <th>2</th>\n",
       "      <td>The primary job of this device is to block the...</td>\n",
       "      <td>1</td>\n",
       "    </tr>\n",
       "    <tr>\n",
       "      <th>3</th>\n",
       "      <td>Nice windscreen protects my MXL mic and preven...</td>\n",
       "      <td>1</td>\n",
       "    </tr>\n",
       "    <tr>\n",
       "      <th>4</th>\n",
       "      <td>This pop filter is great. It looks and perform...</td>\n",
       "      <td>1</td>\n",
       "    </tr>\n",
       "  </tbody>\n",
       "</table>\n",
       "</div>"
      ],
      "text/plain": [
       "                                              review sentiment\n",
       "0  Not much to write about here, but it does exac...         1\n",
       "1  The product does exactly as it should and is q...         1\n",
       "2  The primary job of this device is to block the...         1\n",
       "3  Nice windscreen protects my MXL mic and preven...         1\n",
       "4  This pop filter is great. It looks and perform...         1"
      ]
     },
     "execution_count": 16,
     "metadata": {},
     "output_type": "execute_result"
    }
   ],
   "source": [
    "data.head()"
   ]
  },
  {
   "cell_type": "code",
   "execution_count": 17,
   "id": "1f5d831c",
   "metadata": {
    "execution": {
     "iopub.execute_input": "2024-04-27T12:11:12.022052Z",
     "iopub.status.busy": "2024-04-27T12:11:12.021283Z",
     "iopub.status.idle": "2024-04-27T12:11:12.031332Z",
     "shell.execute_reply": "2024-04-27T12:11:12.030296Z"
    },
    "papermill": {
     "duration": 0.022405,
     "end_time": "2024-04-27T12:11:12.033427",
     "exception": false,
     "start_time": "2024-04-27T12:11:12.011022",
     "status": "completed"
    },
    "tags": []
   },
   "outputs": [
    {
     "data": {
      "text/plain": [
       "review       0\n",
       "sentiment    0\n",
       "dtype: int64"
      ]
     },
     "execution_count": 17,
     "metadata": {},
     "output_type": "execute_result"
    }
   ],
   "source": [
    "data.isnull().sum()"
   ]
  },
  {
   "cell_type": "code",
   "execution_count": 18,
   "id": "b29825fb",
   "metadata": {
    "execution": {
     "iopub.execute_input": "2024-04-27T12:11:12.052769Z",
     "iopub.status.busy": "2024-04-27T12:11:12.052395Z",
     "iopub.status.idle": "2024-04-27T12:11:12.317252Z",
     "shell.execute_reply": "2024-04-27T12:11:12.315992Z"
    },
    "papermill": {
     "duration": 0.277425,
     "end_time": "2024-04-27T12:11:12.319655",
     "exception": false,
     "start_time": "2024-04-27T12:11:12.042230",
     "status": "completed"
    },
    "tags": []
   },
   "outputs": [
    {
     "data": {
      "image/png": "[encoded data removed]",
      "text/plain": [
       "<Figure size 800x600 with 1 Axes>"
      ]
     },
     "metadata": {},
     "output_type": "display_data"
    }
   ],
   "source": [
    "import pandas as pd\n",
    "import matplotlib.pyplot as plt\n",
    "\n",
    "# Assuming 'data' is your DataFrame with the 'sentiment' column\n",
    "# Load or prepare your data accordingly\n",
    "\n",
    "# Plot the distribution of sentiments\n",
    "plt.figure(figsize=(8, 6))\n",
    "data['sentiment'].value_counts().plot(kind='bar', color='skyblue')\n",
    "plt.title('Distribution of Sentiments')\n",
    "plt.xlabel('Sentiment')\n",
    "plt.ylabel('Count')\n",
    "plt.xticks(rotation=0)  # Rotate x-axis labels if necessary\n",
    "plt.show()\n",
    "\n"
   ]
  },
  {
   "cell_type": "code",
   "execution_count": 19,
   "id": "3a7e4f0d",
   "metadata": {
    "execution": {
     "iopub.execute_input": "2024-04-27T12:11:12.340444Z",
     "iopub.status.busy": "2024-04-27T12:11:12.339380Z",
     "iopub.status.idle": "2024-04-27T12:11:12.570283Z",
     "shell.execute_reply": "2024-04-27T12:11:12.569264Z"
    },
    "papermill": {
     "duration": 0.243888,
     "end_time": "2024-04-27T12:11:12.572710",
     "exception": false,
     "start_time": "2024-04-27T12:11:12.328822",
     "status": "completed"
    },
    "tags": []
   },
   "outputs": [
    {
     "data": {
      "image/png": "[encoded data removed]",
      "text/plain": [
       "<Figure size 800x600 with 1 Axes>"
      ]
     },
     "metadata": {},
     "output_type": "display_data"
    }
   ],
   "source": [
    "import pandas as pd\n",
    "import matplotlib.pyplot as plt\n",
    "\n",
    "# Assuming 'data' is your DataFrame with the 'sentiment' column\n",
    "# Load or prepare your data accordingly\n",
    "\n",
    "# Plot the distribution of sentiments\n",
    "plt.figure(figsize=(8, 6))\n",
    "sentiment_counts = data['sentiment'].value_counts()\n",
    "sentiment_counts.plot(kind='bar', color='skyblue')\n",
    "\n",
    "# Label the bars with sentiment labels\n",
    "for i, count in enumerate(sentiment_counts):\n",
    "    plt.text(i, count + 0.1, str(count), ha='center', va='bottom')\n",
    "\n",
    "# Label the graph with sentiment labels\n",
    "plt.title('Distribution of Sentiments')\n",
    "plt.xlabel('Sentiment')\n",
    "plt.ylabel('Count')\n",
    "plt.xticks(range(len(sentiment_counts)), ['Positive', 'Neutral', 'Negative'], rotation=0)\n",
    "plt.show()\n"
   ]
  },
  {
   "cell_type": "markdown",
   "id": "a42a509e",
   "metadata": {
    "papermill": {
     "duration": 0.009373,
     "end_time": "2024-04-27T12:11:12.591796",
     "exception": false,
     "start_time": "2024-04-27T12:11:12.582423",
     "status": "completed"
    },
    "tags": []
   },
   "source": [
    "#### Preprocess the Text\n",
    "\n",
    "**Lowercasing**: Convert all text to lowercase to ensure uniformity.\n",
    "\n",
    "**Tokenization**: Split the text into individual words or tokens.\n",
    "\n",
    "**Removing Punctuation**: Remove any punctuation marks, as they may not contribute significantly to sentiment analysis.\n",
    "\n",
    "**Removing Stopwords**: Remove common words (e.g., 'and', 'the', 'is') that do not carry much meaning.\n",
    "\n",
    "**Stemming or Lemmatization**: Reduce words to their base or root form to normalize the text.\n",
    "\n",
    "**Removing Numbers**: Remove any numerical digits.\n",
    "\n",
    "**Handling Special Characters**: Remove or handle any special characters that may not be relevant."
   ]
  },
  {
   "cell_type": "code",
   "execution_count": 20,
   "id": "adf83897",
   "metadata": {
    "execution": {
     "iopub.execute_input": "2024-04-27T12:11:12.612706Z",
     "iopub.status.busy": "2024-04-27T12:11:12.612334Z",
     "iopub.status.idle": "2024-04-27T12:11:18.721105Z",
     "shell.execute_reply": "2024-04-27T12:11:18.719953Z"
    },
    "papermill": {
     "duration": 6.122405,
     "end_time": "2024-04-27T12:11:18.723810",
     "exception": false,
     "start_time": "2024-04-27T12:11:12.601405",
     "status": "completed"
    },
    "tags": []
   },
   "outputs": [],
   "source": [
    "import spacy\n",
    "import string\n",
    "\n",
    "# Load the English language model\n",
    "nlp = spacy.load(\"en_core_web_sm\")\n",
    "\n",
    "# Define a function for text preprocessing using spaCy\n",
    "def preprocess_text(text):\n",
    "    # Parse the text using spaCy\n",
    "    doc = nlp(text)\n",
    "    \n",
    "    # Lemmatize tokens, remove punctuation and stopwords\n",
    "    cleaned_tokens = []\n",
    "    for token in doc:\n",
    "        # Check if the token is a word, not a punctuation or a stop word\n",
    "        if token.is_alpha and not token.is_punct and not token.is_stop:\n",
    "            # Lemmatize the token and convert it to lowercase\n",
    "            cleaned_token = token.lemma_.lower()\n",
    "            cleaned_tokens.append(cleaned_token)\n",
    "    \n",
    "    # Join tokens back into a string\n",
    "    cleaned_text = ' '.join(cleaned_tokens)\n",
    "    return cleaned_text\n"
   ]
  },
  {
   "cell_type": "code",
   "execution_count": null,
   "id": "b7c8b031",
   "metadata": {
    "papermill": {
     "duration": 0.00912,
     "end_time": "2024-04-27T12:11:18.742638",
     "exception": false,
     "start_time": "2024-04-27T12:11:18.733518",
     "status": "completed"
    },
    "tags": []
   },
   "outputs": [],
   "source": []
  },
  {
   "cell_type": "code",
   "execution_count": 21,
   "id": "04918178",
   "metadata": {
    "execution": {
     "iopub.execute_input": "2024-04-27T12:11:18.764336Z",
     "iopub.status.busy": "2024-04-27T12:11:18.763013Z",
     "iopub.status.idle": "2024-04-27T12:14:54.004728Z",
     "shell.execute_reply": "2024-04-27T12:14:54.003377Z"
    },
    "papermill": {
     "duration": 215.26545,
     "end_time": "2024-04-27T12:14:54.017692",
     "exception": false,
     "start_time": "2024-04-27T12:11:18.752242",
     "status": "completed"
    },
    "tags": []
   },
   "outputs": [
    {
     "name": "stdout",
     "output_type": "stream",
     "text": [
      "                                              review  \\\n",
      "0  Not much to write about here, but it does exac...   \n",
      "1  The product does exactly as it should and is q...   \n",
      "2  The primary job of this device is to block the...   \n",
      "3  Nice windscreen protects my MXL mic and preven...   \n",
      "4  This pop filter is great. It looks and perform...   \n",
      "\n",
      "                                      cleaned_review  \n",
      "0  write exactly suppose filter pop sound recordi...  \n",
      "1  product exactly affordable realize double scre...  \n",
      "2  primary job device block breath produce poppin...  \n",
      "3  nice windscreen protect mxl mic prevent pop th...  \n",
      "4  pop filter great look perform like studio filt...  \n"
     ]
    }
   ],
   "source": [
    "# Assuming 'data' is your DataFrame containing the 'review' column\n",
    "# Apply the preprocessing function to the 'review' column\n",
    "data['cleaned_review'] = data['review'].apply(preprocess_text)\n",
    "\n",
    "# Display the DataFrame with the cleaned review column\n",
    "print(data[['review', 'cleaned_review']].head())\n"
   ]
  },
  {
   "cell_type": "code",
   "execution_count": 22,
   "id": "16395e96",
   "metadata": {
    "execution": {
     "iopub.execute_input": "2024-04-27T12:14:54.038960Z",
     "iopub.status.busy": "2024-04-27T12:14:54.038521Z",
     "iopub.status.idle": "2024-04-27T12:14:54.049203Z",
     "shell.execute_reply": "2024-04-27T12:14:54.048202Z"
    },
    "papermill": {
     "duration": 0.023844,
     "end_time": "2024-04-27T12:14:54.051318",
     "exception": false,
     "start_time": "2024-04-27T12:14:54.027474",
     "status": "completed"
    },
    "tags": []
   },
   "outputs": [
    {
     "data": {
      "text/html": [
       "<div>\n",
       "<style scoped>\n",
       "    .dataframe tbody tr th:only-of-type {\n",
       "        vertical-align: middle;\n",
       "    }\n",
       "\n",
       "    .dataframe tbody tr th {\n",
       "        vertical-align: top;\n",
       "    }\n",
       "\n",
       "    .dataframe thead th {\n",
       "        text-align: right;\n",
       "    }\n",
       "</style>\n",
       "<table border=\"1\" class=\"dataframe\">\n",
       "  <thead>\n",
       "    <tr style=\"text-align: right;\">\n",
       "      <th></th>\n",
       "      <th>review</th>\n",
       "      <th>sentiment</th>\n",
       "      <th>cleaned_review</th>\n",
       "    </tr>\n",
       "  </thead>\n",
       "  <tbody>\n",
       "    <tr>\n",
       "      <th>0</th>\n",
       "      <td>Not much to write about here, but it does exac...</td>\n",
       "      <td>1</td>\n",
       "      <td>write exactly suppose filter pop sound recordi...</td>\n",
       "    </tr>\n",
       "    <tr>\n",
       "      <th>1</th>\n",
       "      <td>The product does exactly as it should and is q...</td>\n",
       "      <td>1</td>\n",
       "      <td>product exactly affordable realize double scre...</td>\n",
       "    </tr>\n",
       "    <tr>\n",
       "      <th>2</th>\n",
       "      <td>The primary job of this device is to block the...</td>\n",
       "      <td>1</td>\n",
       "      <td>primary job device block breath produce poppin...</td>\n",
       "    </tr>\n",
       "    <tr>\n",
       "      <th>3</th>\n",
       "      <td>Nice windscreen protects my MXL mic and preven...</td>\n",
       "      <td>1</td>\n",
       "      <td>nice windscreen protect mxl mic prevent pop th...</td>\n",
       "    </tr>\n",
       "    <tr>\n",
       "      <th>4</th>\n",
       "      <td>This pop filter is great. It looks and perform...</td>\n",
       "      <td>1</td>\n",
       "      <td>pop filter great look perform like studio filt...</td>\n",
       "    </tr>\n",
       "  </tbody>\n",
       "</table>\n",
       "</div>"
      ],
      "text/plain": [
       "                                              review sentiment  \\\n",
       "0  Not much to write about here, but it does exac...         1   \n",
       "1  The product does exactly as it should and is q...         1   \n",
       "2  The primary job of this device is to block the...         1   \n",
       "3  Nice windscreen protects my MXL mic and preven...         1   \n",
       "4  This pop filter is great. It looks and perform...         1   \n",
       "\n",
       "                                      cleaned_review  \n",
       "0  write exactly suppose filter pop sound recordi...  \n",
       "1  product exactly affordable realize double scre...  \n",
       "2  primary job device block breath produce poppin...  \n",
       "3  nice windscreen protect mxl mic prevent pop th...  \n",
       "4  pop filter great look perform like studio filt...  "
      ]
     },
     "execution_count": 22,
     "metadata": {},
     "output_type": "execute_result"
    }
   ],
   "source": [
    "data.head()"
   ]
  },
  {
   "cell_type": "code",
   "execution_count": 23,
   "id": "068749d6",
   "metadata": {
    "execution": {
     "iopub.execute_input": "2024-04-27T12:14:54.072722Z",
     "iopub.status.busy": "2024-04-27T12:14:54.072324Z",
     "iopub.status.idle": "2024-04-27T12:14:54.085684Z",
     "shell.execute_reply": "2024-04-27T12:14:54.084654Z"
    },
    "papermill": {
     "duration": 0.026668,
     "end_time": "2024-04-27T12:14:54.087880",
     "exception": false,
     "start_time": "2024-04-27T12:14:54.061212",
     "status": "completed"
    },
    "tags": []
   },
   "outputs": [
    {
     "data": {
      "text/html": [
       "<div>\n",
       "<style scoped>\n",
       "    .dataframe tbody tr th:only-of-type {\n",
       "        vertical-align: middle;\n",
       "    }\n",
       "\n",
       "    .dataframe tbody tr th {\n",
       "        vertical-align: top;\n",
       "    }\n",
       "\n",
       "    .dataframe thead th {\n",
       "        text-align: right;\n",
       "    }\n",
       "</style>\n",
       "<table border=\"1\" class=\"dataframe\">\n",
       "  <thead>\n",
       "    <tr style=\"text-align: right;\">\n",
       "      <th></th>\n",
       "      <th>sentiment</th>\n",
       "      <th>cleaned_review</th>\n",
       "    </tr>\n",
       "  </thead>\n",
       "  <tbody>\n",
       "    <tr>\n",
       "      <th>0</th>\n",
       "      <td>1</td>\n",
       "      <td>write exactly suppose filter pop sound recordi...</td>\n",
       "    </tr>\n",
       "    <tr>\n",
       "      <th>1</th>\n",
       "      <td>1</td>\n",
       "      <td>product exactly affordable realize double scre...</td>\n",
       "    </tr>\n",
       "    <tr>\n",
       "      <th>2</th>\n",
       "      <td>1</td>\n",
       "      <td>primary job device block breath produce poppin...</td>\n",
       "    </tr>\n",
       "    <tr>\n",
       "      <th>3</th>\n",
       "      <td>1</td>\n",
       "      <td>nice windscreen protect mxl mic prevent pop th...</td>\n",
       "    </tr>\n",
       "    <tr>\n",
       "      <th>4</th>\n",
       "      <td>1</td>\n",
       "      <td>pop filter great look perform like studio filt...</td>\n",
       "    </tr>\n",
       "    <tr>\n",
       "      <th>...</th>\n",
       "      <td>...</td>\n",
       "      <td>...</td>\n",
       "    </tr>\n",
       "    <tr>\n",
       "      <th>10256</th>\n",
       "      <td>1</td>\n",
       "      <td>great expect thank star</td>\n",
       "    </tr>\n",
       "    <tr>\n",
       "      <th>10257</th>\n",
       "      <td>1</td>\n",
       "      <td>think try nanoweb string bit high price cost t...</td>\n",
       "    </tr>\n",
       "    <tr>\n",
       "      <th>10258</th>\n",
       "      <td>1</td>\n",
       "      <td>try coated string past include elixirs fond tr...</td>\n",
       "    </tr>\n",
       "    <tr>\n",
       "      <th>10259</th>\n",
       "      <td>1</td>\n",
       "      <td>elixir developed taylor guitars string design ...</td>\n",
       "    </tr>\n",
       "    <tr>\n",
       "      <th>10260</th>\n",
       "      <td>1</td>\n",
       "      <td>string good perfect unwound string bright accu...</td>\n",
       "    </tr>\n",
       "  </tbody>\n",
       "</table>\n",
       "<p>10261 rows × 2 columns</p>\n",
       "</div>"
      ],
      "text/plain": [
       "      sentiment                                     cleaned_review\n",
       "0             1  write exactly suppose filter pop sound recordi...\n",
       "1             1  product exactly affordable realize double scre...\n",
       "2             1  primary job device block breath produce poppin...\n",
       "3             1  nice windscreen protect mxl mic prevent pop th...\n",
       "4             1  pop filter great look perform like studio filt...\n",
       "...         ...                                                ...\n",
       "10256         1                            great expect thank star\n",
       "10257         1  think try nanoweb string bit high price cost t...\n",
       "10258         1  try coated string past include elixirs fond tr...\n",
       "10259         1  elixir developed taylor guitars string design ...\n",
       "10260         1  string good perfect unwound string bright accu...\n",
       "\n",
       "[10261 rows x 2 columns]"
      ]
     },
     "execution_count": 23,
     "metadata": {},
     "output_type": "execute_result"
    }
   ],
   "source": [
    "data.drop('review', axis = 1)"
   ]
  },
  {
   "cell_type": "code",
   "execution_count": 24,
   "id": "5bbc9d35",
   "metadata": {
    "execution": {
     "iopub.execute_input": "2024-04-27T12:14:54.110008Z",
     "iopub.status.busy": "2024-04-27T12:14:54.109599Z",
     "iopub.status.idle": "2024-04-27T12:15:06.309342Z",
     "shell.execute_reply": "2024-04-27T12:15:06.308114Z"
    },
    "papermill": {
     "duration": 12.213755,
     "end_time": "2024-04-27T12:15:06.311935",
     "exception": false,
     "start_time": "2024-04-27T12:14:54.098180",
     "status": "completed"
    },
    "tags": []
   },
   "outputs": [
    {
     "name": "stdout",
     "output_type": "stream",
     "text": [
      "Naive Bayes Classification Report:\n",
      "              precision    recall  f1-score   support\n",
      "\n",
      "          -1       0.00      0.00      0.00       104\n",
      "           0       0.00      0.00      0.00       140\n",
      "           1       0.88      1.00      0.94      1809\n",
      "\n",
      "    accuracy                           0.88      2053\n",
      "   macro avg       0.29      0.33      0.31      2053\n",
      "weighted avg       0.78      0.88      0.83      2053\n",
      "\n",
      "Logistic Regression Classification Report:\n",
      "              precision    recall  f1-score   support\n",
      "\n",
      "          -1       0.70      0.07      0.12       104\n",
      "           0       0.52      0.08      0.14       140\n",
      "           1       0.89      1.00      0.94      1809\n",
      "\n",
      "    accuracy                           0.89      2053\n",
      "   macro avg       0.70      0.38      0.40      2053\n",
      "weighted avg       0.86      0.89      0.84      2053\n",
      "\n",
      "Random Forest Classification Report:\n",
      "              precision    recall  f1-score   support\n",
      "\n",
      "          -1       0.67      0.06      0.11       104\n",
      "           0       0.30      0.02      0.04       140\n",
      "           1       0.89      1.00      0.94      1809\n",
      "\n",
      "    accuracy                           0.88      2053\n",
      "   macro avg       0.62      0.36      0.36      2053\n",
      "weighted avg       0.84      0.88      0.83      2053\n",
      "\n"
     ]
    }
   ],
   "source": [
    "from sklearn.model_selection import train_test_split\n",
    "from sklearn.feature_extraction.text import TfidfVectorizer\n",
    "from sklearn.naive_bayes import MultinomialNB\n",
    "from sklearn.linear_model import LogisticRegression\n",
    "from sklearn.ensemble import RandomForestClassifier\n",
    "from sklearn.metrics import classification_report\n",
    "import matplotlib.pyplot as plt\n",
    "\n",
    "X = data['cleaned_review']\n",
    "\n",
    "y = data['sentiment']\n",
    "\n",
    "# Split the data into training and testing sets\n",
    "X_train, X_test, y_train, y_test = train_test_split(X, y, test_size=0.2, random_state=42)\n",
    "\n",
    "# Vectorize the text data using TF-IDF\n",
    "vectorizer = TfidfVectorizer(max_features=5000)\n",
    "X_train_tfidf = vectorizer.fit_transform(X_train)\n",
    "X_test_tfidf = vectorizer.transform(X_test)\n",
    "\n",
    "# Train and evaluate Naive Bayes model\n",
    "nb_model = MultinomialNB()\n",
    "nb_model.fit(X_train_tfidf, y_train)\n",
    "nb_pred = nb_model.predict(X_test_tfidf)\n",
    "nb_report = classification_report(y_test, nb_pred)\n",
    "\n",
    "# Train and evaluate Logistic Regression model\n",
    "lr_model = LogisticRegression(max_iter=1000)\n",
    "lr_model.fit(X_train_tfidf, y_train)\n",
    "lr_pred = lr_model.predict(X_test_tfidf)\n",
    "lr_report = classification_report(y_test, lr_pred)\n",
    "\n",
    "# Train and evaluate Random Forest model\n",
    "rf_model = RandomForestClassifier(n_estimators=100)\n",
    "rf_model.fit(X_train_tfidf, y_train)\n",
    "rf_pred = rf_model.predict(X_test_tfidf)\n",
    "rf_report = classification_report(y_test, rf_pred)\n",
    "\n",
    "# Print classification reports\n",
    "print(\"Naive Bayes Classification Report:\")\n",
    "print(nb_report)\n",
    "print(\"Logistic Regression Classification Report:\")\n",
    "print(lr_report)\n",
    "print(\"Random Forest Classification Report:\")\n",
    "print(rf_report)\n",
    "\n",
    "\n",
    "\n",
    "\n"
   ]
  },
  {
   "cell_type": "code",
   "execution_count": 25,
   "id": "f62b2990",
   "metadata": {
    "execution": {
     "iopub.execute_input": "2024-04-27T12:15:06.335262Z",
     "iopub.status.busy": "2024-04-27T12:15:06.334428Z",
     "iopub.status.idle": "2024-04-27T12:15:06.443308Z",
     "shell.execute_reply": "2024-04-27T12:15:06.442286Z"
    },
    "papermill": {
     "duration": 0.123048,
     "end_time": "2024-04-27T12:15:06.445654",
     "exception": false,
     "start_time": "2024-04-27T12:15:06.322606",
     "status": "completed"
    },
    "tags": []
   },
   "outputs": [
    {
     "name": "stdout",
     "output_type": "stream",
     "text": [
      "Naive Bayes:\n",
      "Precision: 0.7764245070179929\n",
      "Recall: 0.8811495372625426\n",
      "F1-score: 0.8254787741625788\n",
      "\n",
      "Logistic Regression:\n",
      "Precision: 0.8555865026838242\n",
      "Recall: 0.8855333658061374\n",
      "F1-score: 0.8435577477211591\n",
      "\n",
      "Random Forest:\n",
      "Precision: 0.8353075648701734\n",
      "Recall: 0.8826108134437408\n",
      "F1-score: 0.8349158241099274\n"
     ]
    }
   ],
   "source": [
    "from sklearn.metrics import precision_score, recall_score, f1_score\n",
    "\n",
    "# Calculate precision, recall, and F1-score for each algorithm\n",
    "nb_precision = precision_score(y_test, nb_pred, average='weighted')\n",
    "nb_recall = recall_score(y_test, nb_pred, average='weighted')\n",
    "nb_f1 = f1_score(y_test, nb_pred, average='weighted')\n",
    "\n",
    "lr_precision = precision_score(y_test, lr_pred, average='weighted')\n",
    "lr_recall = recall_score(y_test, lr_pred, average='weighted')\n",
    "lr_f1 = f1_score(y_test, lr_pred, average='weighted')\n",
    "\n",
    "rf_precision = precision_score(y_test, rf_pred, average='weighted')\n",
    "rf_recall = recall_score(y_test, rf_pred, average='weighted')\n",
    "rf_f1 = f1_score(y_test, rf_pred, average='weighted')\n",
    "\n",
    "# Print performance metrics for each algorithm\n",
    "print(\"Naive Bayes:\")\n",
    "print(\"Precision:\", nb_precision)\n",
    "print(\"Recall:\", nb_recall)\n",
    "print(\"F1-score:\", nb_f1)\n",
    "print()\n",
    "\n",
    "print(\"Logistic Regression:\")\n",
    "print(\"Precision:\", lr_precision)\n",
    "print(\"Recall:\", lr_recall)\n",
    "print(\"F1-score:\", lr_f1)\n",
    "print()\n",
    "\n",
    "print(\"Random Forest:\")\n",
    "print(\"Precision:\", rf_precision)\n",
    "print(\"Recall:\", rf_recall)\n",
    "print(\"F1-score:\", rf_f1)\n"
   ]
  },
  {
   "cell_type": "code",
   "execution_count": 26,
   "id": "b4e3c69b",
   "metadata": {
    "execution": {
     "iopub.execute_input": "2024-04-27T12:15:06.468117Z",
     "iopub.status.busy": "2024-04-27T12:15:06.467697Z",
     "iopub.status.idle": "2024-04-27T12:15:06.681343Z",
     "shell.execute_reply": "2024-04-27T12:15:06.680259Z"
    },
    "papermill": {
     "duration": 0.227481,
     "end_time": "2024-04-27T12:15:06.683557",
     "exception": false,
     "start_time": "2024-04-27T12:15:06.456076",
     "status": "completed"
    },
    "tags": []
   },
   "outputs": [
    {
     "data": {
      "image/png": "[encoded data removed]",
      "text/plain": [
       "<Figure size 640x480 with 1 Axes>"
      ]
     },
     "metadata": {},
     "output_type": "display_data"
    }
   ],
   "source": [
    "import matplotlib.pyplot as plt\n",
    "\n",
    "# Labels for algorithms\n",
    "labels = ['Naive Bayes', 'Logistic Regression', 'Random Forest']\n",
    "\n",
    "# Scores for precision, recall, and F1-score\n",
    "precision_scores = [nb_precision, lr_precision, rf_precision]\n",
    "recall_scores = [nb_recall, lr_recall, rf_recall]\n",
    "f1_scores = [nb_f1, lr_f1, rf_f1]\n",
    "\n",
    "x = range(len(labels))\n",
    "width = 0.2\n",
    "\n",
    "plt.bar(x, precision_scores, width=width, label='Precision')\n",
    "plt.bar([i + width for i in x], recall_scores, width=width, label='Recall')\n",
    "plt.bar([i + width * 2 for i in x], f1_scores, width=width, label='F1-score')\n",
    "\n",
    "plt.xlabel('Algorithms')\n",
    "plt.ylabel('Scores')\n",
    "plt.title('Performance Comparison of Algorithms')\n",
    "plt.xticks([i + width for i in x], labels)\n",
    "plt.legend()\n",
    "plt.show()\n"
   ]
  },
  {
   "cell_type": "code",
   "execution_count": 27,
   "id": "a8130310",
   "metadata": {
    "execution": {
     "iopub.execute_input": "2024-04-27T12:15:06.707252Z",
     "iopub.status.busy": "2024-04-27T12:15:06.706220Z",
     "iopub.status.idle": "2024-04-27T12:15:06.721094Z",
     "shell.execute_reply": "2024-04-27T12:15:06.719702Z"
    },
    "papermill": {
     "duration": 0.028995,
     "end_time": "2024-04-27T12:15:06.723345",
     "exception": false,
     "start_time": "2024-04-27T12:15:06.694350",
     "status": "completed"
    },
    "tags": []
   },
   "outputs": [
    {
     "name": "stdout",
     "output_type": "stream",
     "text": [
      "Naive Bayes Accuracy: 0.8811495372625426\n",
      "Logistic Regression Accuracy: 0.8855333658061374\n",
      "Random Forest Accuracy: 0.8826108134437408\n"
     ]
    }
   ],
   "source": [
    "from sklearn.metrics import accuracy_score\n",
    "\n",
    "# Calculate accuracy for each algorithm\n",
    "nb_accuracy = accuracy_score(y_test, nb_pred)\n",
    "lr_accuracy = accuracy_score(y_test, lr_pred)\n",
    "rf_accuracy = accuracy_score(y_test, rf_pred)\n",
    "\n",
    "# Print accuracy scores for each algorithm\n",
    "print(\"Naive Bayes Accuracy:\", nb_accuracy)\n",
    "print(\"Logistic Regression Accuracy:\", lr_accuracy)\n",
    "print(\"Random Forest Accuracy:\", rf_accuracy)\n",
    "\n"
   ]
  },
  {
   "cell_type": "code",
   "execution_count": 28,
   "id": "15289b5e",
   "metadata": {
    "execution": {
     "iopub.execute_input": "2024-04-27T12:15:06.746736Z",
     "iopub.status.busy": "2024-04-27T12:15:06.746338Z",
     "iopub.status.idle": "2024-04-27T12:15:06.907168Z",
     "shell.execute_reply": "2024-04-27T12:15:06.906075Z"
    },
    "papermill": {
     "duration": 0.17517,
     "end_time": "2024-04-27T12:15:06.909406",
     "exception": false,
     "start_time": "2024-04-27T12:15:06.734236",
     "status": "completed"
    },
    "tags": []
   },
   "outputs": [
    {
     "data": {
      "image/png": "[encoded data removed]",
      "text/plain": [
       "<Figure size 640x480 with 1 Axes>"
      ]
     },
     "metadata": {},
     "output_type": "display_data"
    }
   ],
   "source": [
    "# Labels for algorithms\n",
    "labels = ['Naive Bayes', 'Logistic Regression', 'Random Forest']\n",
    "\n",
    "# Accuracy scores\n",
    "accuracy_scores = [nb_accuracy, lr_accuracy, rf_accuracy]\n",
    "\n",
    "plt.bar(labels, accuracy_scores, color=['blue', 'orange', 'green'])\n",
    "\n",
    "plt.xlabel('Algorithms')\n",
    "plt.ylabel('Accuracy')\n",
    "plt.title('Accuracy Comparison of Algorithms')\n",
    "plt.show()\n"
   ]
  },
  {
   "cell_type": "code",
   "execution_count": null,
   "id": "164f9e52",
   "metadata": {
    "papermill": {
     "duration": 0.010797,
     "end_time": "2024-04-27T12:15:06.931512",
     "exception": false,
     "start_time": "2024-04-27T12:15:06.920715",
     "status": "completed"
    },
    "tags": []
   },
   "outputs": [],
   "source": []
  }
 ],
 "metadata": {
  "kaggle": {
   "accelerator": "none",
   "dataSources": [
    {
     "datasetId": 573774,
     "sourceId": 1043123,
     "sourceType": "datasetVersion"
    }
   ],
   "dockerImageVersionId": 30698,
   "isGpuEnabled": false,
   "isInternetEnabled": true,
   "language": "python",
   "sourceType": "notebook"
  },
  "kernelspec": {
   "display_name": "Python 3",
   "language": "python",
   "name": "python3"
  },
  "language_info": {
   "codemirror_mode": {
    "name": "ipython",
    "version": 3
   },
   "file_extension": ".py",
   "mimetype": "text/x-python",
   "name": "python",
   "nbconvert_exporter": "python",
   "pygments_lexer": "ipython3",
   "version": "3.10.13"
  },
  "papermill": {
   "default_parameters": {},
   "duration": 240.35847,
   "end_time": "2024-04-27T12:15:08.267179",
   "environment_variables": {},
   "exception": null,
   "input_path": "__notebook__.ipynb",
   "output_path": "__notebook__.ipynb",
   "parameters": {},
   "start_time": "2024-04-27T12:11:07.908709",
   "version": "2.5.0"
  }
 },
 "nbformat": 4,
 "nbformat_minor": 5
}
